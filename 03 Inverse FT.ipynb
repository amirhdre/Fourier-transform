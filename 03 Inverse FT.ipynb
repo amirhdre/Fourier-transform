{
 "cells": [
  {
   "cell_type": "markdown",
   "id": "engaged-fossil",
   "metadata": {},
   "source": [
    "# The discrete inverse Fourier transform"
   ]
  },
  {
   "cell_type": "code",
   "execution_count": 2,
   "id": "hollywood-lunch",
   "metadata": {},
   "outputs": [],
   "source": [
    "import numpy as np \n",
    "import math\n",
    "import matplotlib.pyplot as plt\n",
    "import pylab as pl\n",
    "from IPython import display\n",
    "import time as ttime\n",
    "import random\n",
    "from mpl_toolkits.mplot3d import Axes3D"
   ]
  },
  {
   "cell_type": "code",
   "execution_count": 15,
   "id": "educational-advantage",
   "metadata": {},
   "outputs": [
    {
     "data": {
      "image/png": "[encoded data removed]",
      "text/plain": [
       "<Figure size 432x288 with 1 Axes>"
      ]
     },
     "metadata": {
      "needs_background": "light"
     },
     "output_type": "display_data"
    },
    {
     "name": "stdout",
     "output_type": "stream",
     "text": [
      "srate: 1000\n",
      "time(2000,): (0.0, 1.999)\n",
      "pnts: 2000\n",
      "fourTime(2000,): (0.0, 1.0)\n",
      "hz(1001,): (0.0, 500.0)\n"
     ]
    }
   ],
   "source": [
    "## first, the forward Fourier transform\n",
    "\n",
    "# create the signal\n",
    "srate  = 1000 # hz\n",
    "time   = np.arange(0,2.,1/srate)  # time vector in seconds\n",
    "pnts   = len(time) # number of time points\n",
    "signal = 2.5 * np.sin( 2*np.pi * 4 * time ) + 1.5 * np.sin( 2*np.pi * 6.5 * time )\n",
    "\n",
    "\n",
    "# prepare the Fourier transform\n",
    "fourTime = np.array(np.arange(0,pnts))/pnts\n",
    "fCoefs   = np.zeros(len(signal),dtype=complex)\n",
    "\n",
    "for fi in range(0,pnts):\n",
    "    \n",
    "    # create complex sine wave\n",
    "    csw = np.exp( -1j * 2*np.pi * fi * fourTime )\n",
    "    \n",
    "    # compute dot product between sine wave and signal\n",
    "    fCoefs[fi] = np.sum( np.multiply(signal,csw) )\n",
    "\n",
    "# extract amplitudes\n",
    "ampls = np.abs(fCoefs) / pnts\n",
    "ampls[range(1,len(ampls))] = 2*ampls[range(1,len(ampls))]\n",
    "\n",
    "# compute frequencies vector\n",
    "hz = np.linspace(0,srate/2,num=math.floor(pnts/2)+1)\n",
    "\n",
    "plt.stem(hz,ampls[range(0,len(hz))])\n",
    "plt.xlim([0,10])\n",
    "plt.show()\n",
    "\n",
    "print(f\"srate: {srate}\")\n",
    "print(f\"time{time.shape}: {time[0], time[-1]}\")\n",
    "print(f\"pnts: {pnts}\")\n",
    "print(f\"fourTime{fourTime.shape}: {fourTime[0], np.round(fourTime[-1])}\")\n",
    "print(f\"hz{hz.shape}: {hz[0], np.round(hz[-1])}\")"
   ]
  },
  {
   "cell_type": "code",
   "execution_count": null,
   "id": "conceptual-tribune",
   "metadata": {},
   "outputs": [],
   "source": []
  }
 ],
 "metadata": {
  "kernelspec": {
   "display_name": "Python 3",
   "language": "python",
   "name": "python3"
  },
  "language_info": {
   "codemirror_mode": {
    "name": "ipython",
    "version": 3
   },
   "file_extension": ".py",
   "mimetype": "text/x-python",
   "name": "python",
   "nbconvert_exporter": "python",
   "pygments_lexer": "ipython3",
   "version": "3.8.8"
  }
 },
 "nbformat": 4,
 "nbformat_minor": 5
}
